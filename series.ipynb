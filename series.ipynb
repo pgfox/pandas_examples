{
 "cells": [
  {
   "cell_type": "markdown",
   "id": "7326540d",
   "metadata": {
    "toc": true
   },
   "source": [
    "<h1>Table of Contents<span class=\"tocSkip\"></span></h1>\n",
    "<div class=\"toc\"><ul class=\"toc-item\"></ul></div>"
   ]
  },
  {
   "cell_type": "code",
   "execution_count": 1,
   "id": "fb5f26a5",
   "metadata": {},
   "outputs": [],
   "source": [
    "import pandas as pd\n",
    "import numpy as np"
   ]
  },
  {
   "cell_type": "code",
   "execution_count": 28,
   "id": "be0cbe41",
   "metadata": {},
   "outputs": [
    {
     "name": "stdout",
     "output_type": "stream",
     "text": [
      "0    1\n",
      "1    6\n",
      "2    9\n",
      "3    3\n",
      "4    2\n",
      "dtype: int64\n",
      "values from series: <PandasArray>\n",
      "[1, 6, 9, 3, 2]\n",
      "Length: 5, dtype: int64\n",
      "index from series: RangeIndex(start=0, stop=5, step=1)\n",
      "a    1\n",
      "b    6\n",
      "c    9\n",
      "d    3\n",
      "e    2\n",
      "dtype: int64\n",
      " 'b' value from s2 is 6\n",
      " 'a','b','c' indicies from s2 is:\n",
      "a    1\n",
      "b    6\n",
      "c    9\n",
      "dtype: int64 \n",
      "one      1\n",
      "two      6\n",
      "three    9\n",
      "four     3\n",
      "five     2\n",
      "dtype: int64\n"
     ]
    }
   ],
   "source": [
    "#series with a default index\n",
    "s1 = pd.Series([1,6,9,3,2])\n",
    "print(s1)\n",
    "\n",
    "print(f\"values from series: {s1.array}\")\n",
    "print(f\"index from series: {s1.index}\" )\n",
    "\n",
    "#series with a defined index\n",
    "my_index=[\"a\",\"b\",\"c\",\"d\",\"e\"]\n",
    "s2 = pd.Series ([1,6,9,3,2] , index=my_index)\n",
    "print(s2)\n",
    "print(f\" 'b' value from s2 is {s2['b']}\")\n",
    "\n",
    "# list of indicies\n",
    "print(f\" 'a','b','c' indicies from s2 is:\\n{s2[['a','b','c']]} \")\n",
    "\n",
    "#resetting the index in place\n",
    "s2.index=[\"one\",\"two\",\"three\",\"four\",\"five\"]\n",
    "print(s2)"
   ]
  },
  {
   "cell_type": "code",
   "execution_count": 16,
   "id": "9f79d070",
   "metadata": {},
   "outputs": [
    {
     "name": "stdout",
     "output_type": "stream",
     "text": [
      "a     2\n",
      "b    12\n",
      "c    18\n",
      "d     6\n",
      "e     4\n",
      "dtype: int64\n"
     ]
    }
   ],
   "source": [
    "#series behaves as a numpy structure with scalars\n",
    "s3 = s2*2\n",
    "print(s3)"
   ]
  },
  {
   "cell_type": "code",
   "execution_count": 19,
   "id": "f893bfd1",
   "metadata": {},
   "outputs": [
    {
     "name": "stdout",
     "output_type": "stream",
     "text": [
      "Dublin    Ireland\n",
      "London    England\n",
      "Paris      France\n",
      "dtype: object\n",
      " The value for 'Dublin' is: Ireland\n"
     ]
    }
   ],
   "source": [
    "#initiated by dict \n",
    "my_dict = {\"Dublin\":\"Ireland\",\"London\":\"England\",\"Paris\":\"France\"}\n",
    "s10 = pd.Series(my_dict)\n",
    "print(s10)\n",
    "print(f\" The value for 'Dublin' is: {s10['Dublin']}\")"
   ]
  },
  {
   "cell_type": "code",
   "execution_count": 23,
   "id": "d89bf939",
   "metadata": {},
   "outputs": [
    {
     "name": "stdout",
     "output_type": "stream",
     "text": [
      "reordered index:\n",
      "Paris       France\n",
      "Dublin     Ireland\n",
      "London     England\n",
      "Cardiff        NaN\n",
      "dtype: object\n"
     ]
    }
   ],
   "source": [
    "#reording series created by dict using Series index.\n",
    "defined_indx = [\"Paris\",\"Dublin\",\"London\", \"Cardiff\"]\n",
    "s11 = pd.Series(my_dict,index=defined_indx)\n",
    "print(f\"reordered index:\\n{s11}\")"
   ]
  },
  {
   "cell_type": "code",
   "execution_count": 27,
   "id": "24947bcf",
   "metadata": {},
   "outputs": [
    {
     "name": "stdout",
     "output_type": "stream",
     "text": [
      "Paris      False\n",
      "Dublin     False\n",
      "London     False\n",
      "Cardiff     True\n",
      "dtype: bool\n",
      "Paris      False\n",
      "Dublin     False\n",
      "London     False\n",
      "Cardiff     True\n",
      "dtype: bool\n"
     ]
    }
   ],
   "source": [
    "#checking for 'Missing' values\n",
    "print(pd.isna(s11))\n",
    "print(s11.isna())"
   ]
  }
 ],
 "metadata": {
  "kernelspec": {
   "display_name": "Python 3 (ipykernel)",
   "language": "python",
   "name": "python3"
  },
  "language_info": {
   "codemirror_mode": {
    "name": "ipython",
    "version": 3
   },
   "file_extension": ".py",
   "mimetype": "text/x-python",
   "name": "python",
   "nbconvert_exporter": "python",
   "pygments_lexer": "ipython3",
   "version": "3.9.10"
  },
  "toc": {
   "base_numbering": 1,
   "nav_menu": {},
   "number_sections": true,
   "sideBar": true,
   "skip_h1_title": true,
   "title_cell": "Table of Contents",
   "title_sidebar": "Contents",
   "toc_cell": true,
   "toc_position": {},
   "toc_section_display": true,
   "toc_window_display": false
  }
 },
 "nbformat": 4,
 "nbformat_minor": 5
}
